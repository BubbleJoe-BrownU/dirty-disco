{
 "cells": [
  {
   "cell_type": "code",
   "execution_count": 1,
   "id": "8ef3ced2",
   "metadata": {},
   "outputs": [],
   "source": [
    "import tensorflow as tf\n",
    "import numpy as np\n",
    "\n",
    "\n",
    "%load_ext autoreload\n",
    "%autoreload 2\n",
    "from preprocessing import tokenize, preprocess, load_data\n",
    "from transformer import EncoderBlock, TransformerBlock, PositionalEncoding\n",
    "# from Model_2 import WordCaptionModel\n",
    "from model import NewsCaptionModel"
   ]
  },
  {
   "cell_type": "markdown",
   "id": "6ed233ea",
   "metadata": {},
   "source": [
    "# Load the data"
   ]
  },
  {
   "cell_type": "code",
   "execution_count": 2,
   "id": "c443b832",
   "metadata": {},
   "outputs": [],
   "source": [
    "dataset = load_data(\"data/subset\")"
   ]
  },
  {
   "cell_type": "code",
   "execution_count": 3,
   "id": "fdee86b6",
   "metadata": {},
   "outputs": [],
   "source": [
    "inputs = dataset[\"inputs\"]\n",
    "labels = dataset[\"labels\"]"
   ]
  },
  {
   "cell_type": "code",
   "execution_count": 46,
   "id": "761f7e5a",
   "metadata": {},
   "outputs": [
    {
     "data": {
      "text/plain": [
       "(5000, 20)"
      ]
     },
     "execution_count": 46,
     "metadata": {},
     "output_type": "execute_result"
    }
   ],
   "source": [
    "labels.shape"
   ]
  },
  {
   "cell_type": "code",
   "execution_count": 4,
   "id": "d6297a53",
   "metadata": {},
   "outputs": [
    {
     "data": {
      "text/plain": [
       "3099"
      ]
     },
     "execution_count": 4,
     "metadata": {},
     "output_type": "execute_result"
    }
   ],
   "source": [
    "vocab_size = len(dataset[\"word2idx\"].items())\n",
    "vocab_size"
   ]
  },
  {
   "cell_type": "code",
   "execution_count": 6,
   "id": "73663712",
   "metadata": {},
   "outputs": [
    {
     "ename": "NameError",
     "evalue": "name 'summarized' is not defined",
     "output_type": "error",
     "traceback": [
      "\u001b[0;31m---------------------------------------------------------------------------\u001b[0m",
      "\u001b[0;31mNameError\u001b[0m                                 Traceback (most recent call last)",
      "Cell \u001b[0;32mIn [6], line 1\u001b[0m\n\u001b[0;32m----> 1\u001b[0m \u001b[43msummarized\u001b[49m\u001b[38;5;241m.\u001b[39mnumpy()\u001b[38;5;241m.\u001b[39mreshape(\u001b[38;5;241m10\u001b[39m, \u001b[38;5;241m-\u001b[39m\u001b[38;5;241m1\u001b[39m)[\u001b[38;5;241m0\u001b[39m]\n",
      "\u001b[0;31mNameError\u001b[0m: name 'summarized' is not defined"
     ]
    }
   ],
   "source": [
    "# summarized.numpy().reshape(10, -1)[0]÷"
   ]
  },
  {
   "cell_type": "code",
   "execution_count": 5,
   "id": "de4c87c1",
   "metadata": {},
   "outputs": [],
   "source": [
    "def perplexity(y_true, y_pred):\n",
    "    return tf.exp(tf.reduce_mean(tf.keras.metrics.sparse_categorical_crossentropy(y_true, y_pred)))"
   ]
  },
  {
   "cell_type": "markdown",
   "id": "c0ed249b",
   "metadata": {},
   "source": [
    "# Create the model"
   ]
  },
  {
   "cell_type": "code",
   "execution_count": 15,
   "id": "4f848f03",
   "metadata": {
    "scrolled": true
   },
   "outputs": [],
   "source": [
    "encoder = EncoderBlock(124, vocab_size=vocab_size)\n",
    "decoder = TransformerBlock(124, vocab_size)\n",
    "news_model = NewsCaptionModel(encoder, decoder)"
   ]
  },
  {
   "cell_type": "code",
   "execution_count": 16,
   "id": "ed5998b8",
   "metadata": {},
   "outputs": [],
   "source": [
    "news_model.compile(\n",
    "    optimizer=tf.keras.optimizers.Adam(1e-4),\n",
    "    loss=tf.keras.losses.SparseCategoricalCrossentropy(from_logits=False),\n",
    "    metrics = perplexity\n",
    ")"
   ]
  },
  {
   "cell_type": "code",
   "execution_count": 17,
   "id": "09a1b707",
   "metadata": {},
   "outputs": [
    {
     "name": "stderr",
     "output_type": "stream",
     "text": [
      "2022-12-08 20:46:48.113572: I tensorflow/core/grappler/optimizers/custom_graph_optimizer_registry.cc:114] Plugin optimizer for device_type GPU is enabled.\n"
     ]
    },
    {
     "ename": "ResourceExhaustedError",
     "evalue": "Exception encountered when calling layer \"encoder_block_3\" \"                 f\"(type EncoderBlock).\n\nGraph execution error:\n\nDetected at node 'attention_matrix_29/MatMul' defined at (most recent call last):\n    File \"/Users/chemstriker/miniforge3/envs/csci2470/lib/python3.9/runpy.py\", line 197, in _run_module_as_main\n      return _run_code(code, main_globals, None,\n    File \"/Users/chemstriker/miniforge3/envs/csci2470/lib/python3.9/runpy.py\", line 87, in _run_code\n      exec(code, run_globals)\n    File \"/Users/chemstriker/miniforge3/envs/csci2470/lib/python3.9/site-packages/ipykernel_launcher.py\", line 17, in <module>\n      app.launch_new_instance()\n    File \"/Users/chemstriker/miniforge3/envs/csci2470/lib/python3.9/site-packages/traitlets/config/application.py\", line 978, in launch_instance\n      app.start()\n    File \"/Users/chemstriker/miniforge3/envs/csci2470/lib/python3.9/site-packages/ipykernel/kernelapp.py\", line 712, in start\n      self.io_loop.start()\n    File \"/Users/chemstriker/miniforge3/envs/csci2470/lib/python3.9/site-packages/tornado/platform/asyncio.py\", line 215, in start\n      self.asyncio_loop.run_forever()\n    File \"/Users/chemstriker/miniforge3/envs/csci2470/lib/python3.9/asyncio/base_events.py\", line 601, in run_forever\n      self._run_once()\n    File \"/Users/chemstriker/miniforge3/envs/csci2470/lib/python3.9/asyncio/base_events.py\", line 1905, in _run_once\n      handle._run()\n    File \"/Users/chemstriker/miniforge3/envs/csci2470/lib/python3.9/asyncio/events.py\", line 80, in _run\n      self._context.run(self._callback, *self._args)\n    File \"/Users/chemstriker/miniforge3/envs/csci2470/lib/python3.9/site-packages/ipykernel/kernelbase.py\", line 510, in dispatch_queue\n      await self.process_one()\n    File \"/Users/chemstriker/miniforge3/envs/csci2470/lib/python3.9/site-packages/ipykernel/kernelbase.py\", line 499, in process_one\n      await dispatch(*args)\n    File \"/Users/chemstriker/miniforge3/envs/csci2470/lib/python3.9/site-packages/ipykernel/kernelbase.py\", line 406, in dispatch_shell\n      await result\n    File \"/Users/chemstriker/miniforge3/envs/csci2470/lib/python3.9/site-packages/ipykernel/kernelbase.py\", line 730, in execute_request\n      reply_content = await reply_content\n    File \"/Users/chemstriker/miniforge3/envs/csci2470/lib/python3.9/site-packages/ipykernel/ipkernel.py\", line 383, in do_execute\n      res = shell.run_cell(\n    File \"/Users/chemstriker/miniforge3/envs/csci2470/lib/python3.9/site-packages/ipykernel/zmqshell.py\", line 528, in run_cell\n      return super().run_cell(*args, **kwargs)\n    File \"/Users/chemstriker/miniforge3/envs/csci2470/lib/python3.9/site-packages/IPython/core/interactiveshell.py\", line 2885, in run_cell\n      result = self._run_cell(\n    File \"/Users/chemstriker/miniforge3/envs/csci2470/lib/python3.9/site-packages/IPython/core/interactiveshell.py\", line 2940, in _run_cell\n      return runner(coro)\n    File \"/Users/chemstriker/miniforge3/envs/csci2470/lib/python3.9/site-packages/IPython/core/async_helpers.py\", line 129, in _pseudo_sync_runner\n      coro.send(None)\n    File \"/Users/chemstriker/miniforge3/envs/csci2470/lib/python3.9/site-packages/IPython/core/interactiveshell.py\", line 3139, in run_cell_async\n      has_raised = await self.run_ast_nodes(code_ast.body, cell_name,\n    File \"/Users/chemstriker/miniforge3/envs/csci2470/lib/python3.9/site-packages/IPython/core/interactiveshell.py\", line 3318, in run_ast_nodes\n      if await self.run_code(code, result, async_=asy):\n    File \"/Users/chemstriker/miniforge3/envs/csci2470/lib/python3.9/site-packages/IPython/core/interactiveshell.py\", line 3378, in run_code\n      exec(code_obj, self.user_global_ns, self.user_ns)\n    File \"/var/folders/cd/mt3mnkz168n9wr_y2d10dqb80000gn/T/ipykernel_89200/1750211309.py\", line 1, in <module>\n      latent = news_model.encoder(inputs)\n    File \"/Users/chemstriker/miniforge3/envs/csci2470/lib/python3.9/site-packages/keras/utils/traceback_utils.py\", line 65, in error_handler\n      return fn(*args, **kwargs)\n    File \"/Users/chemstriker/miniforge3/envs/csci2470/lib/python3.9/site-packages/keras/engine/base_layer.py\", line 1097, in __call__\n      outputs = call_fn(inputs, *args, **kwargs)\n    File \"/Users/chemstriker/miniforge3/envs/csci2470/lib/python3.9/site-packages/keras/utils/traceback_utils.py\", line 96, in error_handler\n      return fn(*args, **kwargs)\n    File \"/Users/chemstriker/CSCI2470/final_project/dirty-disco/transformer.py\", line 239, in call\n      self_attention = self.self_atten(inputs, inputs, inputs)\n    File \"/Users/chemstriker/miniforge3/envs/csci2470/lib/python3.9/site-packages/keras/utils/traceback_utils.py\", line 65, in error_handler\n      return fn(*args, **kwargs)\n    File \"/Users/chemstriker/miniforge3/envs/csci2470/lib/python3.9/site-packages/keras/engine/base_layer.py\", line 1097, in __call__\n      outputs = call_fn(inputs, *args, **kwargs)\n    File \"/Users/chemstriker/miniforge3/envs/csci2470/lib/python3.9/site-packages/keras/utils/traceback_utils.py\", line 96, in error_handler\n      return fn(*args, **kwargs)\n    File \"/Users/chemstriker/CSCI2470/final_project/dirty-disco/transformer.py\", line 135, in call\n      atten_3 = self.head_3(inputs_for_keys, inputs_for_values, inputs_for_queries)\n    File \"/Users/chemstriker/miniforge3/envs/csci2470/lib/python3.9/site-packages/keras/utils/traceback_utils.py\", line 65, in error_handler\n      return fn(*args, **kwargs)\n    File \"/Users/chemstriker/miniforge3/envs/csci2470/lib/python3.9/site-packages/keras/engine/base_layer.py\", line 1097, in __call__\n      outputs = call_fn(inputs, *args, **kwargs)\n    File \"/Users/chemstriker/miniforge3/envs/csci2470/lib/python3.9/site-packages/keras/utils/traceback_utils.py\", line 96, in error_handler\n      return fn(*args, **kwargs)\n    File \"/Users/chemstriker/CSCI2470/final_project/dirty-disco/transformer.py\", line 100, in call\n      return self.head((K, Q))@V\n    File \"/Users/chemstriker/miniforge3/envs/csci2470/lib/python3.9/site-packages/keras/utils/traceback_utils.py\", line 65, in error_handler\n      return fn(*args, **kwargs)\n    File \"/Users/chemstriker/miniforge3/envs/csci2470/lib/python3.9/site-packages/keras/engine/base_layer.py\", line 1097, in __call__\n      outputs = call_fn(inputs, *args, **kwargs)\n    File \"/Users/chemstriker/miniforge3/envs/csci2470/lib/python3.9/site-packages/keras/utils/traceback_utils.py\", line 96, in error_handler\n      return fn(*args, **kwargs)\n    File \"/Users/chemstriker/CSCI2470/final_project/dirty-disco/transformer.py\", line 41, in call\n      atten_mat = tf.matmul(Q, K, transpose_b=True)\nNode: 'attention_matrix_29/MatMul'\nOOM when allocating tensor with shape[5000,500,500] and type float on /job:localhost/replica:0/task:0/device:GPU:0 by allocator Simple allocator\n\t [[{{node attention_matrix_29/MatMul}}]]\nHint: If you want to see a list of allocated tensors when OOM happens, add report_tensor_allocations_upon_oom to RunOptions for current allocation info. This isn't available when running in Eager mode.\n [Op:__inference_call_2533]\n\nCall arguments received by layer \"encoder_block_3\" \"                 f\"(type EncoderBlock):\n  • inputs=tf.Tensor(shape=(5000, 500), dtype=int64)",
     "output_type": "error",
     "traceback": [
      "\u001b[0;31m---------------------------------------------------------------------------\u001b[0m",
      "\u001b[0;31mResourceExhaustedError\u001b[0m                    Traceback (most recent call last)",
      "Cell \u001b[0;32mIn [17], line 1\u001b[0m\n\u001b[0;32m----> 1\u001b[0m latent \u001b[38;5;241m=\u001b[39m \u001b[43mnews_model\u001b[49m\u001b[38;5;241;43m.\u001b[39;49m\u001b[43mencoder\u001b[49m\u001b[43m(\u001b[49m\u001b[43minputs\u001b[49m\u001b[43m)\u001b[49m\n",
      "File \u001b[0;32m~/miniforge3/envs/csci2470/lib/python3.9/site-packages/keras/utils/traceback_utils.py:70\u001b[0m, in \u001b[0;36mfilter_traceback.<locals>.error_handler\u001b[0;34m(*args, **kwargs)\u001b[0m\n\u001b[1;32m     67\u001b[0m     filtered_tb \u001b[38;5;241m=\u001b[39m _process_traceback_frames(e\u001b[38;5;241m.\u001b[39m__traceback__)\n\u001b[1;32m     68\u001b[0m     \u001b[38;5;66;03m# To get the full stack trace, call:\u001b[39;00m\n\u001b[1;32m     69\u001b[0m     \u001b[38;5;66;03m# `tf.debugging.disable_traceback_filtering()`\u001b[39;00m\n\u001b[0;32m---> 70\u001b[0m     \u001b[38;5;28;01mraise\u001b[39;00m e\u001b[38;5;241m.\u001b[39mwith_traceback(filtered_tb) \u001b[38;5;28;01mfrom\u001b[39;00m \u001b[38;5;28mNone\u001b[39m\n\u001b[1;32m     71\u001b[0m \u001b[38;5;28;01mfinally\u001b[39;00m:\n\u001b[1;32m     72\u001b[0m     \u001b[38;5;28;01mdel\u001b[39;00m filtered_tb\n",
      "File \u001b[0;32m~/miniforge3/envs/csci2470/lib/python3.9/site-packages/tensorflow/python/eager/execute.py:54\u001b[0m, in \u001b[0;36mquick_execute\u001b[0;34m(op_name, num_outputs, inputs, attrs, ctx, name)\u001b[0m\n\u001b[1;32m     52\u001b[0m \u001b[38;5;28;01mtry\u001b[39;00m:\n\u001b[1;32m     53\u001b[0m   ctx\u001b[38;5;241m.\u001b[39mensure_initialized()\n\u001b[0;32m---> 54\u001b[0m   tensors \u001b[38;5;241m=\u001b[39m pywrap_tfe\u001b[38;5;241m.\u001b[39mTFE_Py_Execute(ctx\u001b[38;5;241m.\u001b[39m_handle, device_name, op_name,\n\u001b[1;32m     55\u001b[0m                                       inputs, attrs, num_outputs)\n\u001b[1;32m     56\u001b[0m \u001b[38;5;28;01mexcept\u001b[39;00m core\u001b[38;5;241m.\u001b[39m_NotOkStatusException \u001b[38;5;28;01mas\u001b[39;00m e:\n\u001b[1;32m     57\u001b[0m   \u001b[38;5;28;01mif\u001b[39;00m name \u001b[38;5;129;01mis\u001b[39;00m \u001b[38;5;129;01mnot\u001b[39;00m \u001b[38;5;28;01mNone\u001b[39;00m:\n",
      "\u001b[0;31mResourceExhaustedError\u001b[0m: Exception encountered when calling layer \"encoder_block_3\" \"                 f\"(type EncoderBlock).\n\nGraph execution error:\n\nDetected at node 'attention_matrix_29/MatMul' defined at (most recent call last):\n    File \"/Users/chemstriker/miniforge3/envs/csci2470/lib/python3.9/runpy.py\", line 197, in _run_module_as_main\n      return _run_code(code, main_globals, None,\n    File \"/Users/chemstriker/miniforge3/envs/csci2470/lib/python3.9/runpy.py\", line 87, in _run_code\n      exec(code, run_globals)\n    File \"/Users/chemstriker/miniforge3/envs/csci2470/lib/python3.9/site-packages/ipykernel_launcher.py\", line 17, in <module>\n      app.launch_new_instance()\n    File \"/Users/chemstriker/miniforge3/envs/csci2470/lib/python3.9/site-packages/traitlets/config/application.py\", line 978, in launch_instance\n      app.start()\n    File \"/Users/chemstriker/miniforge3/envs/csci2470/lib/python3.9/site-packages/ipykernel/kernelapp.py\", line 712, in start\n      self.io_loop.start()\n    File \"/Users/chemstriker/miniforge3/envs/csci2470/lib/python3.9/site-packages/tornado/platform/asyncio.py\", line 215, in start\n      self.asyncio_loop.run_forever()\n    File \"/Users/chemstriker/miniforge3/envs/csci2470/lib/python3.9/asyncio/base_events.py\", line 601, in run_forever\n      self._run_once()\n    File \"/Users/chemstriker/miniforge3/envs/csci2470/lib/python3.9/asyncio/base_events.py\", line 1905, in _run_once\n      handle._run()\n    File \"/Users/chemstriker/miniforge3/envs/csci2470/lib/python3.9/asyncio/events.py\", line 80, in _run\n      self._context.run(self._callback, *self._args)\n    File \"/Users/chemstriker/miniforge3/envs/csci2470/lib/python3.9/site-packages/ipykernel/kernelbase.py\", line 510, in dispatch_queue\n      await self.process_one()\n    File \"/Users/chemstriker/miniforge3/envs/csci2470/lib/python3.9/site-packages/ipykernel/kernelbase.py\", line 499, in process_one\n      await dispatch(*args)\n    File \"/Users/chemstriker/miniforge3/envs/csci2470/lib/python3.9/site-packages/ipykernel/kernelbase.py\", line 406, in dispatch_shell\n      await result\n    File \"/Users/chemstriker/miniforge3/envs/csci2470/lib/python3.9/site-packages/ipykernel/kernelbase.py\", line 730, in execute_request\n      reply_content = await reply_content\n    File \"/Users/chemstriker/miniforge3/envs/csci2470/lib/python3.9/site-packages/ipykernel/ipkernel.py\", line 383, in do_execute\n      res = shell.run_cell(\n    File \"/Users/chemstriker/miniforge3/envs/csci2470/lib/python3.9/site-packages/ipykernel/zmqshell.py\", line 528, in run_cell\n      return super().run_cell(*args, **kwargs)\n    File \"/Users/chemstriker/miniforge3/envs/csci2470/lib/python3.9/site-packages/IPython/core/interactiveshell.py\", line 2885, in run_cell\n      result = self._run_cell(\n    File \"/Users/chemstriker/miniforge3/envs/csci2470/lib/python3.9/site-packages/IPython/core/interactiveshell.py\", line 2940, in _run_cell\n      return runner(coro)\n    File \"/Users/chemstriker/miniforge3/envs/csci2470/lib/python3.9/site-packages/IPython/core/async_helpers.py\", line 129, in _pseudo_sync_runner\n      coro.send(None)\n    File \"/Users/chemstriker/miniforge3/envs/csci2470/lib/python3.9/site-packages/IPython/core/interactiveshell.py\", line 3139, in run_cell_async\n      has_raised = await self.run_ast_nodes(code_ast.body, cell_name,\n    File \"/Users/chemstriker/miniforge3/envs/csci2470/lib/python3.9/site-packages/IPython/core/interactiveshell.py\", line 3318, in run_ast_nodes\n      if await self.run_code(code, result, async_=asy):\n    File \"/Users/chemstriker/miniforge3/envs/csci2470/lib/python3.9/site-packages/IPython/core/interactiveshell.py\", line 3378, in run_code\n      exec(code_obj, self.user_global_ns, self.user_ns)\n    File \"/var/folders/cd/mt3mnkz168n9wr_y2d10dqb80000gn/T/ipykernel_89200/1750211309.py\", line 1, in <module>\n      latent = news_model.encoder(inputs)\n    File \"/Users/chemstriker/miniforge3/envs/csci2470/lib/python3.9/site-packages/keras/utils/traceback_utils.py\", line 65, in error_handler\n      return fn(*args, **kwargs)\n    File \"/Users/chemstriker/miniforge3/envs/csci2470/lib/python3.9/site-packages/keras/engine/base_layer.py\", line 1097, in __call__\n      outputs = call_fn(inputs, *args, **kwargs)\n    File \"/Users/chemstriker/miniforge3/envs/csci2470/lib/python3.9/site-packages/keras/utils/traceback_utils.py\", line 96, in error_handler\n      return fn(*args, **kwargs)\n    File \"/Users/chemstriker/CSCI2470/final_project/dirty-disco/transformer.py\", line 239, in call\n      self_attention = self.self_atten(inputs, inputs, inputs)\n    File \"/Users/chemstriker/miniforge3/envs/csci2470/lib/python3.9/site-packages/keras/utils/traceback_utils.py\", line 65, in error_handler\n      return fn(*args, **kwargs)\n    File \"/Users/chemstriker/miniforge3/envs/csci2470/lib/python3.9/site-packages/keras/engine/base_layer.py\", line 1097, in __call__\n      outputs = call_fn(inputs, *args, **kwargs)\n    File \"/Users/chemstriker/miniforge3/envs/csci2470/lib/python3.9/site-packages/keras/utils/traceback_utils.py\", line 96, in error_handler\n      return fn(*args, **kwargs)\n    File \"/Users/chemstriker/CSCI2470/final_project/dirty-disco/transformer.py\", line 135, in call\n      atten_3 = self.head_3(inputs_for_keys, inputs_for_values, inputs_for_queries)\n    File \"/Users/chemstriker/miniforge3/envs/csci2470/lib/python3.9/site-packages/keras/utils/traceback_utils.py\", line 65, in error_handler\n      return fn(*args, **kwargs)\n    File \"/Users/chemstriker/miniforge3/envs/csci2470/lib/python3.9/site-packages/keras/engine/base_layer.py\", line 1097, in __call__\n      outputs = call_fn(inputs, *args, **kwargs)\n    File \"/Users/chemstriker/miniforge3/envs/csci2470/lib/python3.9/site-packages/keras/utils/traceback_utils.py\", line 96, in error_handler\n      return fn(*args, **kwargs)\n    File \"/Users/chemstriker/CSCI2470/final_project/dirty-disco/transformer.py\", line 100, in call\n      return self.head((K, Q))@V\n    File \"/Users/chemstriker/miniforge3/envs/csci2470/lib/python3.9/site-packages/keras/utils/traceback_utils.py\", line 65, in error_handler\n      return fn(*args, **kwargs)\n    File \"/Users/chemstriker/miniforge3/envs/csci2470/lib/python3.9/site-packages/keras/engine/base_layer.py\", line 1097, in __call__\n      outputs = call_fn(inputs, *args, **kwargs)\n    File \"/Users/chemstriker/miniforge3/envs/csci2470/lib/python3.9/site-packages/keras/utils/traceback_utils.py\", line 96, in error_handler\n      return fn(*args, **kwargs)\n    File \"/Users/chemstriker/CSCI2470/final_project/dirty-disco/transformer.py\", line 41, in call\n      atten_mat = tf.matmul(Q, K, transpose_b=True)\nNode: 'attention_matrix_29/MatMul'\nOOM when allocating tensor with shape[5000,500,500] and type float on /job:localhost/replica:0/task:0/device:GPU:0 by allocator Simple allocator\n\t [[{{node attention_matrix_29/MatMul}}]]\nHint: If you want to see a list of allocated tensors when OOM happens, add report_tensor_allocations_upon_oom to RunOptions for current allocation info. This isn't available when running in Eager mode.\n [Op:__inference_call_2533]\n\nCall arguments received by layer \"encoder_block_3\" \"                 f\"(type EncoderBlock):\n  • inputs=tf.Tensor(shape=(5000, 500), dtype=int64)"
     ]
    }
   ],
   "source": [
    "latent = news_model.encoder(inputs)\n",
    "# latent.shaped"
   ]
  },
  {
   "cell_type": "code",
   "execution_count": 25,
   "id": "f2a5ef81",
   "metadata": {},
   "outputs": [
    {
     "name": "stdout",
     "output_type": "stream",
     "text": [
      "[]\n",
      "[<tf.Variable 'dense_37/kernel:0' shape=(4, 4) dtype=float32, numpy=\n",
      "array([[-0.06185085,  0.10459298, -0.69121695, -0.5878602 ],\n",
      "       [-0.25841177,  0.17056054, -0.583524  , -0.13315052],\n",
      "       [-0.40747526, -0.68597245, -0.5256901 , -0.30131906],\n",
      "       [ 0.18631703,  0.45646447,  0.44480473,  0.70915157]],\n",
      "      dtype=float32)>, <tf.Variable 'dense_37/bias:0' shape=(4,) dtype=float32, numpy=array([0., 0., 0., 0.], dtype=float32)>]\n"
     ]
    }
   ],
   "source": [
    "layer = tf.keras.layers.Dense(4)\n",
    "x = tf.ones((1, 4))\n",
    "print(layer.weights)\n",
    "t = layer(x)\n",
    "print(layer.weights)"
   ]
  },
  {
   "cell_type": "code",
   "execution_count": 51,
   "id": "dd71b130",
   "metadata": {},
   "outputs": [
    {
     "name": "stdout",
     "output_type": "stream",
     "text": [
      "(5000, 500)\n",
      "(5000, 20)\n"
     ]
    },
    {
     "ename": "TypeError",
     "evalue": "Exception encountered when calling layer \"news_caption_model_4\" \"                 f\"(type NewsCaptionModel).\n\nin user code:\n\n    File \"/Users/chemstriker/CSCI2470/final_project/dirty-disco/model.py\", line 25, in call  *\n        latent = self.encoder(paragraph)\n    File \"/Users/chemstriker/miniforge3/envs/csci2470/lib/python3.9/site-packages/keras/utils/traceback_utils.py\", line 70, in error_handler  **\n        raise e.with_traceback(filtered_tb) from None\n\n    TypeError: Exception encountered when calling layer \"encoder_block_6\" \"                 f\"(type EncoderBlock).\n    \n    'NoneType' object is not callable\n    \n    Call arguments received by layer \"encoder_block_6\" \"                 f\"(type EncoderBlock):\n      • inputs=tf.Tensor(shape=(5000, 500), dtype=int64)\n\n\nCall arguments received by layer \"news_caption_model_4\" \"                 f\"(type NewsCaptionModel):\n  • inputs=('tf.Tensor(shape=(5000, 500), dtype=int64)', 'tf.Tensor(shape=(5000, 20), dtype=int64)')",
     "output_type": "error",
     "traceback": [
      "\u001b[0;31m---------------------------------------------------------------------------\u001b[0m",
      "\u001b[0;31mTypeError\u001b[0m                                 Traceback (most recent call last)",
      "Cell \u001b[0;32mIn [51], line 1\u001b[0m\n\u001b[0;32m----> 1\u001b[0m \u001b[43mnews_model\u001b[49m\u001b[43m(\u001b[49m\u001b[43m(\u001b[49m\u001b[43minputs\u001b[49m\u001b[43m,\u001b[49m\u001b[43m \u001b[49m\u001b[43mlabels\u001b[49m\u001b[43m)\u001b[49m\u001b[43m)\u001b[49m\n",
      "File \u001b[0;32m~/miniforge3/envs/csci2470/lib/python3.9/site-packages/keras/utils/traceback_utils.py:70\u001b[0m, in \u001b[0;36mfilter_traceback.<locals>.error_handler\u001b[0;34m(*args, **kwargs)\u001b[0m\n\u001b[1;32m     67\u001b[0m     filtered_tb \u001b[38;5;241m=\u001b[39m _process_traceback_frames(e\u001b[38;5;241m.\u001b[39m__traceback__)\n\u001b[1;32m     68\u001b[0m     \u001b[38;5;66;03m# To get the full stack trace, call:\u001b[39;00m\n\u001b[1;32m     69\u001b[0m     \u001b[38;5;66;03m# `tf.debugging.disable_traceback_filtering()`\u001b[39;00m\n\u001b[0;32m---> 70\u001b[0m     \u001b[38;5;28;01mraise\u001b[39;00m e\u001b[38;5;241m.\u001b[39mwith_traceback(filtered_tb) \u001b[38;5;28;01mfrom\u001b[39;00m \u001b[38;5;28mNone\u001b[39m\n\u001b[1;32m     71\u001b[0m \u001b[38;5;28;01mfinally\u001b[39;00m:\n\u001b[1;32m     72\u001b[0m     \u001b[38;5;28;01mdel\u001b[39;00m filtered_tb\n",
      "File \u001b[0;32m/var/folders/cd/mt3mnkz168n9wr_y2d10dqb80000gn/T/__autograph_generated_file64htpep7.py:13\u001b[0m, in \u001b[0;36mouter_factory.<locals>.inner_factory.<locals>.tf__call\u001b[0;34m(self, inputs)\u001b[0m\n\u001b[1;32m     11\u001b[0m ag__\u001b[38;5;241m.\u001b[39mld(\u001b[38;5;28mprint\u001b[39m)(ag__\u001b[38;5;241m.\u001b[39mld(paragraph)\u001b[38;5;241m.\u001b[39mshape)\n\u001b[1;32m     12\u001b[0m ag__\u001b[38;5;241m.\u001b[39mld(\u001b[38;5;28mprint\u001b[39m)(ag__\u001b[38;5;241m.\u001b[39mld(labels)\u001b[38;5;241m.\u001b[39mshape)\n\u001b[0;32m---> 13\u001b[0m latent \u001b[38;5;241m=\u001b[39m ag__\u001b[38;5;241m.\u001b[39mconverted_call(ag__\u001b[38;5;241m.\u001b[39mld(\u001b[38;5;28mself\u001b[39m)\u001b[38;5;241m.\u001b[39mencoder, (ag__\u001b[38;5;241m.\u001b[39mld(paragraph),), \u001b[38;5;28;01mNone\u001b[39;00m, fscope)\n\u001b[1;32m     14\u001b[0m output \u001b[38;5;241m=\u001b[39m ag__\u001b[38;5;241m.\u001b[39mconverted_call(ag__\u001b[38;5;241m.\u001b[39mld(\u001b[38;5;28mself\u001b[39m)\u001b[38;5;241m.\u001b[39mdecoder, (ag__\u001b[38;5;241m.\u001b[39mld(labels), ag__\u001b[38;5;241m.\u001b[39mld(latent)), \u001b[38;5;28;01mNone\u001b[39;00m, fscope)\n\u001b[1;32m     15\u001b[0m \u001b[38;5;28;01mtry\u001b[39;00m:\n",
      "\u001b[0;31mTypeError\u001b[0m: Exception encountered when calling layer \"news_caption_model_4\" \"                 f\"(type NewsCaptionModel).\n\nin user code:\n\n    File \"/Users/chemstriker/CSCI2470/final_project/dirty-disco/model.py\", line 25, in call  *\n        latent = self.encoder(paragraph)\n    File \"/Users/chemstriker/miniforge3/envs/csci2470/lib/python3.9/site-packages/keras/utils/traceback_utils.py\", line 70, in error_handler  **\n        raise e.with_traceback(filtered_tb) from None\n\n    TypeError: Exception encountered when calling layer \"encoder_block_6\" \"                 f\"(type EncoderBlock).\n    \n    'NoneType' object is not callable\n    \n    Call arguments received by layer \"encoder_block_6\" \"                 f\"(type EncoderBlock):\n      • inputs=tf.Tensor(shape=(5000, 500), dtype=int64)\n\n\nCall arguments received by layer \"news_caption_model_4\" \"                 f\"(type NewsCaptionModel):\n  • inputs=('tf.Tensor(shape=(5000, 500), dtype=int64)', 'tf.Tensor(shape=(5000, 20), dtype=int64)')"
     ]
    }
   ],
   "source": [
    "news_model((inputs, labels))"
   ]
  },
  {
   "cell_type": "code",
   "execution_count": 18,
   "id": "b0048789",
   "metadata": {
    "scrolled": false
   },
   "outputs": [
    {
     "name": "stdout",
     "output_type": "stream",
     "text": [
      "Epoch 1/10\n"
     ]
    },
    {
     "name": "stderr",
     "output_type": "stream",
     "text": [
      "2022-12-08 20:47:07.672591: I tensorflow/core/grappler/optimizers/custom_graph_optimizer_registry.cc:114] Plugin optimizer for device_type GPU is enabled.\n"
     ]
    },
    {
     "name": "stdout",
     "output_type": "stream",
     "text": [
      "100/100 [==============================] - ETA: 0s - loss: 7.6554 - perplexity: 2229.4358"
     ]
    },
    {
     "name": "stderr",
     "output_type": "stream",
     "text": [
      "2022-12-08 20:47:28.717816: I tensorflow/core/grappler/optimizers/custom_graph_optimizer_registry.cc:114] Plugin optimizer for device_type GPU is enabled.\n"
     ]
    },
    {
     "name": "stdout",
     "output_type": "stream",
     "text": [
      "100/100 [==============================] - 29s 271ms/step - loss: 7.6554 - perplexity: 2229.4358 - val_loss: 7.3707 - val_perplexity: 1657.3281\n",
      "Epoch 2/10\n",
      "100/100 [==============================] - 27s 269ms/step - loss: 7.1085 - perplexity: 1290.6605 - val_loss: 6.9221 - val_perplexity: 1055.1140\n",
      "Epoch 3/10\n",
      "100/100 [==============================] - 27s 274ms/step - loss: 6.8182 - perplexity: 948.2891 - val_loss: 6.7481 - val_perplexity: 886.0964\n",
      "Epoch 4/10\n",
      "100/100 [==============================] - 27s 272ms/step - loss: 6.7414 - perplexity: 879.4061 - val_loss: 6.7314 - val_perplexity: 871.5078\n",
      "Epoch 5/10\n",
      "100/100 [==============================] - 27s 269ms/step - loss: 6.7467 - perplexity: 889.0613 - val_loss: 6.8100 - val_perplexity: 942.9554\n",
      "Epoch 6/10\n",
      "100/100 [==============================] - 27s 270ms/step - loss: 6.7881 - perplexity: 920.5950 - val_loss: 6.8025 - val_perplexity: 935.8831\n",
      "Epoch 7/10\n",
      "100/100 [==============================] - 27s 269ms/step - loss: 6.7903 - perplexity: 918.1664 - val_loss: 6.7989 - val_perplexity: 932.4908\n",
      "Epoch 8/10\n",
      "100/100 [==============================] - 27s 268ms/step - loss: 6.7812 - perplexity: 915.7182 - val_loss: 6.7938 - val_perplexity: 927.6929\n",
      "Epoch 9/10\n",
      "100/100 [==============================] - 27s 267ms/step - loss: 6.7938 - perplexity: 926.8597 - val_loss: 6.7923 - val_perplexity: 926.3162\n",
      "Epoch 10/10\n",
      "100/100 [==============================] - 27s 268ms/step - loss: 6.7974 - perplexity: 924.3888 - val_loss: 6.7913 - val_perplexity: 925.3841\n"
     ]
    },
    {
     "data": {
      "text/plain": [
       "<keras.callbacks.History at 0x1567dfe80>"
      ]
     },
     "execution_count": 18,
     "metadata": {},
     "output_type": "execute_result"
    }
   ],
   "source": [
    "# model([inputs, labels])\n",
    "news_model.fit(\n",
    "    [inputs, labels],\n",
    "    labels,\n",
    "    epochs=10, \n",
    "    batch_size=50,\n",
    "    validation_data=([inputs, labels], labels)\n",
    ")\n",
    "# model.build(input_shape=(None, 124))"
   ]
  },
  {
   "cell_type": "code",
   "execution_count": 20,
   "id": "89adc120",
   "metadata": {},
   "outputs": [
    {
     "name": "stderr",
     "output_type": "stream",
     "text": [
      "2022-12-08 20:53:12.844751: I tensorflow/core/grappler/optimizers/custom_graph_optimizer_registry.cc:114] Plugin optimizer for device_type GPU is enabled.\n"
     ]
    },
    {
     "name": "stdout",
     "output_type": "stream",
     "text": [
      "1/1 [==============================] - 1s 612ms/step\n"
     ]
    }
   ],
   "source": [
    "samples = (inputs[:10], labels[:10])\n",
    "outputs = news_model.predict(samples)"
   ]
  },
  {
   "cell_type": "code",
   "execution_count": 41,
   "id": "48bccafc",
   "metadata": {},
   "outputs": [
    {
     "data": {
      "text/plain": [
       "['<start>',\n",
       " 'craig',\n",
       " '<unk>',\n",
       " '27',\n",
       " 'had',\n",
       " 'drunk',\n",
       " 'at',\n",
       " 'least',\n",
       " 'three',\n",
       " '<unk>',\n",
       " 'before',\n",
       " 'driving',\n",
       " 'car',\n",
       " 'wa',\n",
       " 'using',\n",
       " 'phone',\n",
       " 'when',\n",
       " 'he',\n",
       " '<unk>',\n",
       " '<end>']"
      ]
     },
     "execution_count": 41,
     "metadata": {},
     "output_type": "execute_result"
    }
   ],
   "source": [
    "[dataset[\"idx2word\"][i] for i in labels[2]]"
   ]
  },
  {
   "cell_type": "code",
   "execution_count": 37,
   "id": "cdf2d0c3",
   "metadata": {},
   "outputs": [
    {
     "data": {
      "text/plain": [
       "'taking taking taking taking taking taking taking taking taking taking taking taking taking taking taking taking taking taking taking taking'"
      ]
     },
     "execution_count": 37,
     "metadata": {},
     "output_type": "execute_result"
    }
   ],
   "source": [
    "index = np.argmax(outputs[1], axis=-1)\n",
    "\" \".join([dataset[\"idx2word\"][i] for i in index])"
   ]
  },
  {
   "cell_type": "code",
   "execution_count": null,
   "id": "e86e7f7b",
   "metadata": {},
   "outputs": [],
   "source": [
    "def generate_sentense(outputs):\n",
    "    batch_size = outputs.shape[0]\n",
    "    for i in range(batch_size):\n",
    "        sentence = outputs[i]\n",
    "        sentence = np.argmax(sentence, axis=-1)\n",
    "        print()\n",
    "    "
   ]
  }
 ],
 "metadata": {
  "kernelspec": {
   "display_name": "Python 3 (ipykernel)",
   "language": "python",
   "name": "python3"
  },
  "language_info": {
   "codemirror_mode": {
    "name": "ipython",
    "version": 3
   },
   "file_extension": ".py",
   "mimetype": "text/x-python",
   "name": "python",
   "nbconvert_exporter": "python",
   "pygments_lexer": "ipython3",
   "version": "3.9.13"
  }
 },
 "nbformat": 4,
 "nbformat_minor": 5
}
