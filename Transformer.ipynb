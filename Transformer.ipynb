{
 "cells": [
  {
   "cell_type": "code",
   "execution_count": 1,
   "id": "8ef3ced2",
   "metadata": {},
   "outputs": [],
   "source": [
    "import tensorflow as tf\n",
    "import numpy as np\n",
    "\n",
    "\n",
    "%load_ext autoreload\n",
    "%autoreload 2\n",
    "from preprocessing import tokenize, preprocess, load_data\n",
    "from transformer import EncoderBlock, TransformerBlock, PositionalEncoding\n",
    "# from Model_2 import WordCaptionModel\n",
    "from model import NewsCaptionModel"
   ]
  },
  {
   "cell_type": "markdown",
   "id": "6ed233ea",
   "metadata": {},
   "source": [
    "# Load the data"
   ]
  },
  {
   "cell_type": "code",
   "execution_count": 2,
   "id": "c443b832",
   "metadata": {},
   "outputs": [],
   "source": [
    "dataset = load_data(\"data/subset\")"
   ]
  },
  {
   "cell_type": "code",
   "execution_count": 3,
   "id": "fdee86b6",
   "metadata": {},
   "outputs": [],
   "source": [
    "inputs = dataset[\"inputs\"]\n",
    "labels = dataset[\"labels\"]"
   ]
  },
  {
   "cell_type": "code",
   "execution_count": 46,
   "id": "7328c212",
   "metadata": {},
   "outputs": [
    {
     "data": {
      "text/plain": [
       "(5000, 20)"
      ]
     },
     "execution_count": 46,
     "metadata": {},
     "output_type": "execute_result"
    }
   ],
   "source": [
    "labels.shape"
   ]
  },
  {
   "cell_type": "code",
   "execution_count": 4,
   "id": "d6297a53",
   "metadata": {},
   "outputs": [
    {
     "data": {
      "text/plain": [
       "3099"
      ]
     },
     "execution_count": 4,
     "metadata": {},
     "output_type": "execute_result"
    }
   ],
   "source": [
    "vocab_size = len(dataset[\"word2idx\"].items())\n",
    "vocab_size"
   ]
  },
  {
   "cell_type": "code",
   "execution_count": 6,
   "id": "73663712",
   "metadata": {},
   "outputs": [
    {
     "ename": "NameError",
     "evalue": "name 'summarized' is not defined",
     "output_type": "error",
     "traceback": [
      "\u001b[0;31m---------------------------------------------------------------------------\u001b[0m",
      "\u001b[0;31mNameError\u001b[0m                                 Traceback (most recent call last)",
      "Cell \u001b[0;32mIn [6], line 1\u001b[0m\n\u001b[0;32m----> 1\u001b[0m \u001b[43msummarized\u001b[49m\u001b[38;5;241m.\u001b[39mnumpy()\u001b[38;5;241m.\u001b[39mreshape(\u001b[38;5;241m10\u001b[39m, \u001b[38;5;241m-\u001b[39m\u001b[38;5;241m1\u001b[39m)[\u001b[38;5;241m0\u001b[39m]\n",
      "\u001b[0;31mNameError\u001b[0m: name 'summarized' is not defined"
     ]
    }
   ],
   "source": [
    "# summarized.numpy().reshape(10, -1)[0]÷"
   ]
  },
  {
   "cell_type": "code",
   "execution_count": 84,
   "id": "de4c87c1",
   "metadata": {},
   "outputs": [],
   "source": [
    "def perplexity(y_true, y_pred):\n",
    "    tf.print(y_pred)\n",
    "    return tf.exp(tf.reduce_mean(tf.keras.metrics.sparse_categorical_crossentropy(y_true, y_pred)))"
   ]
  },
  {
   "cell_type": "markdown",
   "id": "c7646577",
   "metadata": {},
   "source": [
    "# Create the model"
   ]
  },
  {
   "cell_type": "code",
   "execution_count": 85,
   "id": "4f848f03",
   "metadata": {
    "scrolled": true
   },
   "outputs": [],
   "source": [
    "encoder = EncoderBlock(124, vocab_size=vocab_size)\n",
    "decoder = TransformerBlock(124, vocab_size)\n",
    "news_model = NewsCaptionModel(encoder, decoder)"
   ]
  },
  {
   "cell_type": "code",
   "execution_count": 86,
   "id": "ed5998b8",
   "metadata": {},
   "outputs": [],
   "source": [
    "news_model.compile(\n",
    "    optimizer=tf.keras.optimizers.Adam(1e-3),\n",
    "    loss=tf.keras.losses.SparseCategoricalCrossentropy(from_logits=False),\n",
    "    metrics = perplexity\n",
    ")"
   ]
  },
  {
   "cell_type": "code",
   "execution_count": 87,
   "id": "392cb7fb",
   "metadata": {},
   "outputs": [
    {
     "name": "stdout",
     "output_type": "stream",
     "text": [
      "Epoch 1/10\n"
     ]
    },
    {
     "name": "stderr",
     "output_type": "stream",
     "text": [
      "2022-12-11 16:29:57.068823: I tensorflow/core/grappler/optimizers/custom_graph_optimizer_registry.cc:114] Plugin optimizer for device_type GPU is enabled.\n"
     ]
    },
    {
     "name": "stdout",
     "output_type": "stream",
     "text": [
      "[[[0 0 0 ... 0 0.424331933 0]\n",
      "  [2.25216866 0 0 ... 0 0 0]\n",
      "  [0 0 0 ... 0 0.393820018 0]\n",
      "  ...\n",
      "  [2.22370028 0 0 ... 0 0.342719615 0]\n",
      "  [2.21862173 0 0 ... 0 0.394672215 0]\n",
      "  [2.23714161 0 0 ... 0 0 0]]\n",
      "\n",
      " [[2.26851201 0 0 ... 0 0 0]\n",
      "  [2.25593662 0 0 ... 0 0.37724188 0]\n",
      "  [2.27327 0 0 ... 0 0 0]\n",
      "  ...\n",
      "  [0 0 0 ... 0 0.349405825 0]\n",
      "  [0 0 0 ... 0 0.391031295 0]\n",
      "  [2.24392104 0 0 ... 0 0 0]]\n",
      "\n",
      " [[2.28934479 0 0 ... 0 0 0]\n",
      "  [2.27472544 0 0 ... 0 0.418242067 0]\n",
      "  [0 0 0 ... 0 0 0]\n",
      "  ...\n",
      "  [0 0 0 ... 0 0 0]\n",
      "  [0 0 0 ... 0 0.401660681 0]\n",
      "  [2.27468657 0 0 ... 0 0.4165124 0]]\n",
      "\n",
      " ...\n",
      "\n",
      " [[2.19964623 0 0 ... 0 0 0]\n",
      "  [2.14635968 0 0 ... 0 0 0]\n",
      "  [2.18427372 0 0 ... 0 0.42364347 0]\n",
      "  ...\n",
      "  [2.18427372 0 0 ... 0 0.42364347 0]\n",
      "  [2.18427372 0 0 ... 0 0 0]\n",
      "  [2.15949225 0 0 ... 0 0.413223 0]]\n",
      "\n",
      " [[2.26962376 0 0 ... 0 0.432590723 0]\n",
      "  [2.25932407 0 0 ... 0 0.427235872 0]\n",
      "  [0 0 0 ... 0 0.421454668 0]\n",
      "  ...\n",
      "  [2.28972054 0 0 ... 0 0 0]\n",
      "  [0 0 0 ... 0 0 0]\n",
      "  [0 0 0 ... 0 0 0]]\n",
      "\n",
      " [[2.24491978 0 0 ... 0 0 0]\n",
      "  [2.20197582 0 0 ... 0 0 0]\n",
      "  [2.23086 0 0 ... 0 0 0]\n",
      "  ...\n",
      "  [0 0 0 ... 0 0.295184165 0]\n",
      "  [2.20474601 0 0 ... 0 0.295184165 0]\n",
      "  [0 0 0 ... 0 0.295184165 0]]]\n",
      "  1/200 [..............................] - ETA: 9:45 - loss: 6.7698 - perplexity: 871.1452[[[2.10757184 0 0 ... 0 0 0]\n",
      "  [0 0 0 ... 0 0.263455629 0]\n",
      "  [0 0 0 ... 0 0.263455629 0]\n",
      "  ...\n",
      "  [2.12301445 0 0 ... 0 0 0]\n",
      "  [0 0 0 ... 0 0.263455629 0]\n",
      "  [0 0 0 ... 0 0 0]]\n",
      "\n",
      " [[2.10741973 0 0 ... 0 0 0]\n",
      "  [0 0 0 ... 0 0.273475111 0]\n",
      "  [0 0 0 ... 0 0.273475111 0]\n",
      "  ...\n",
      "  [2.07652879 0 0 ... 0 0.273475111 0]\n",
      "  [2.09445786 0 0 ... 0 0.243544862 0]\n",
      "  [0 0 0 ... 0 0.256142855 0]]\n",
      "\n",
      " [[0 0 0 ... 0 0 0]\n",
      "  [0 0 0 ... 0 0.349705428 0]\n",
      "  [2.12737417 0 0 ... 0 0.322315574 0]\n",
      "  ...\n",
      "  [2.10391617 0 0 ... 0 0.324271 0]\n",
      "  [2.13436842 0 0 ... 0 0.381360799 0]\n",
      "  [0 0 0 ... 0 0 0]]\n",
      "\n",
      " ...\n",
      "\n",
      " [[2.1167872 0 0 ... 0 0 0]\n",
      "  [2.10849643 0 0 ... 0 0.311661571 0]\n",
      "  [0 0 0 ... 0 0 0]\n",
      "  ...\n",
      "  [2.04731798 0 0 ... 0 0.294237375 0]\n",
      "  [2.08339477 0 0 ... 0 0.297495931 0]\n",
      "  [2.07197809 0 0 ... 0 0.279664695 0]]\n",
      "\n",
      " [[2.13994026 0 0 ... 0 0.308654249 0]\n",
      "  [0 0 0 ... 0 0 0]\n",
      "  [2.16567755 0 0 ... 0 0 0]\n",
      "  ...\n",
      "  [0 0 0 ... 0 0.325601637 0]\n",
      "  [2.12261295 0 0 ... 0 0.319095641 0]\n",
      "  [2.09700966 0 0 ... 0 0 0]]\n",
      "\n",
      " [[2.15391588 0 0 ... 0 0.222013846 0]\n",
      "  [2.15903831 0 0 ... 0 0 0]\n",
      "  [2.13056588 0 0 ... 0 0 0]\n",
      "  ...\n",
      "  [2.13309216 0 0 ... 0 0.214145213 0]\n",
      "  [2.12062883 0 0 ... 0 0 0]\n",
      "  [0 0 0 ... 0 0.219600603 0]]]\n",
      "  2/200 [..............................] - ETA: 2:12 - loss: 6.3586 - perplexity: 626.9468[[[2.20938373 0 0 ... 0 0 0]\n",
      "  [0 0 0 ... 0 0.0967485458 0]\n",
      "  [0 0 0 ... 0 0.0893269107 0]\n",
      "  ...\n",
      "  [2.20452356 0 0 ... 0 0 0]\n",
      "  [0 0 0 ... 0 0.120273471 0]\n",
      "  [0 0 0 ... 0 0 0]]\n",
      "\n",
      " [[2.14956021 0 0 ... 0 0 0]\n",
      "  [0 0 0 ... 0 0.0232497957 0]\n",
      "  [0 0 0 ... 0 0.0290108323 0]\n",
      "  ...\n",
      "  [2.12720084 0 0 ... 0 0.0100874864 0]\n",
      "  [2.16105461 0 0 ... 0 0.0224376284 0]\n",
      "  [0 0 0 ... 0 0.00397275947 0]]\n",
      "\n",
      " [[0 0 0 ... 0 0 0]\n",
      "  [0 0 0 ... 0 0 0]\n",
      "  [2.06114483 0 0 ... 0 0.0621934682 0]\n",
      "  ...\n",
      "  [2.05476499 0 0 ... 0 0 0]\n",
      "  [2.0372622 0 0 ... 0 0.0260032509 0]\n",
      "  [0 0 0 ... 0 0 0]]\n",
      "\n",
      " ...\n",
      "\n",
      " [[2.03259683 0 0 ... 0 0 0]\n",
      "  [2.01860571 0 0 ... 0 0.000579556043 0]\n",
      "  [0 0 0 ... 0 0 0]\n",
      "  ...\n",
      "  [2.03006101 0 0 ... 0 0.0105200233 0]\n",
      "  [2.01689 0 0 ... 0 0 0]\n",
      "  [2.01486921 0 0 ... 0 0.00511320261 0]]\n",
      "\n",
      " [[2.04703331 0 0 ... 0 0.0277394839 0]\n",
      "  [0 0 0 ... 0 0 0]\n",
      "  [2.02046728 0 0 ... 0 0 0]\n",
      "  ...\n",
      "  [0 0 0 ... 0 0.0219233148 0]\n",
      "  [2.0232687 0 0 ... 0 0.0129002212 0]\n",
      "  [2.01508617 0 0 ... 0 0 0]]\n",
      "\n",
      " [[2.01996875 0 0 ... 0 0.0173807219 0]\n",
      "  [2.00418878 0 0 ... 0 0 0]\n",
      "  [2.00138664 0 0 ... 0 0 0]\n",
      "  ...\n",
      "  [2.00138664 0 0 ... 0 0.0120548056 0]\n",
      "  [2.00756097 0 0 ... 0 0 0]\n",
      "  [0 0 0 ... 0 0.0154006435 0]]]\n"
     ]
    },
    {
     "ename": "KeyboardInterrupt",
     "evalue": "",
     "output_type": "error",
     "traceback": [
      "\u001b[0;31m---------------------------------------------------------------------------\u001b[0m",
      "\u001b[0;31mKeyboardInterrupt\u001b[0m                         Traceback (most recent call last)",
      "Cell \u001b[0;32mIn [87], line 1\u001b[0m\n\u001b[0;32m----> 1\u001b[0m \u001b[43mnews_model\u001b[49m\u001b[38;5;241;43m.\u001b[39;49m\u001b[43mfit\u001b[49m\u001b[43m(\u001b[49m\n\u001b[1;32m      2\u001b[0m \u001b[43m    \u001b[49m\u001b[43m[\u001b[49m\u001b[43minputs\u001b[49m\u001b[43m,\u001b[49m\u001b[43m \u001b[49m\u001b[43mlabels\u001b[49m\u001b[43m]\u001b[49m\u001b[43m,\u001b[49m\n\u001b[1;32m      3\u001b[0m \u001b[43m    \u001b[49m\u001b[43mlabels\u001b[49m\u001b[43m,\u001b[49m\n\u001b[1;32m      4\u001b[0m \u001b[43m    \u001b[49m\u001b[43mepochs\u001b[49m\u001b[38;5;241;43m=\u001b[39;49m\u001b[38;5;241;43m10\u001b[39;49m\u001b[43m,\u001b[49m\u001b[43m \u001b[49m\n\u001b[1;32m      5\u001b[0m \u001b[43m    \u001b[49m\u001b[43mbatch_size\u001b[49m\u001b[38;5;241;43m=\u001b[39;49m\u001b[38;5;241;43m25\u001b[39;49m\u001b[43m,\u001b[49m\n\u001b[1;32m      6\u001b[0m \u001b[43m    \u001b[49m\u001b[43mvalidation_data\u001b[49m\u001b[38;5;241;43m=\u001b[39;49m\u001b[43m(\u001b[49m\u001b[43m[\u001b[49m\u001b[43minputs\u001b[49m\u001b[43m,\u001b[49m\u001b[43m \u001b[49m\u001b[43mlabels\u001b[49m\u001b[43m]\u001b[49m\u001b[43m,\u001b[49m\u001b[43m \u001b[49m\u001b[43mlabels\u001b[49m\u001b[43m)\u001b[49m\n\u001b[1;32m      7\u001b[0m \u001b[43m)\u001b[49m\n",
      "File \u001b[0;32m~/miniforge3/envs/csci2470/lib/python3.9/site-packages/keras/utils/traceback_utils.py:65\u001b[0m, in \u001b[0;36mfilter_traceback.<locals>.error_handler\u001b[0;34m(*args, **kwargs)\u001b[0m\n\u001b[1;32m     63\u001b[0m filtered_tb \u001b[38;5;241m=\u001b[39m \u001b[38;5;28;01mNone\u001b[39;00m\n\u001b[1;32m     64\u001b[0m \u001b[38;5;28;01mtry\u001b[39;00m:\n\u001b[0;32m---> 65\u001b[0m     \u001b[38;5;28;01mreturn\u001b[39;00m \u001b[43mfn\u001b[49m\u001b[43m(\u001b[49m\u001b[38;5;241;43m*\u001b[39;49m\u001b[43margs\u001b[49m\u001b[43m,\u001b[49m\u001b[43m \u001b[49m\u001b[38;5;241;43m*\u001b[39;49m\u001b[38;5;241;43m*\u001b[39;49m\u001b[43mkwargs\u001b[49m\u001b[43m)\u001b[49m\n\u001b[1;32m     66\u001b[0m \u001b[38;5;28;01mexcept\u001b[39;00m \u001b[38;5;167;01mException\u001b[39;00m \u001b[38;5;28;01mas\u001b[39;00m e:\n\u001b[1;32m     67\u001b[0m     filtered_tb \u001b[38;5;241m=\u001b[39m _process_traceback_frames(e\u001b[38;5;241m.\u001b[39m__traceback__)\n",
      "File \u001b[0;32m~/miniforge3/envs/csci2470/lib/python3.9/site-packages/keras/engine/training.py:1564\u001b[0m, in \u001b[0;36mModel.fit\u001b[0;34m(self, x, y, batch_size, epochs, verbose, callbacks, validation_split, validation_data, shuffle, class_weight, sample_weight, initial_epoch, steps_per_epoch, validation_steps, validation_batch_size, validation_freq, max_queue_size, workers, use_multiprocessing)\u001b[0m\n\u001b[1;32m   1556\u001b[0m \u001b[38;5;28;01mwith\u001b[39;00m tf\u001b[38;5;241m.\u001b[39mprofiler\u001b[38;5;241m.\u001b[39mexperimental\u001b[38;5;241m.\u001b[39mTrace(\n\u001b[1;32m   1557\u001b[0m     \u001b[38;5;124m\"\u001b[39m\u001b[38;5;124mtrain\u001b[39m\u001b[38;5;124m\"\u001b[39m,\n\u001b[1;32m   1558\u001b[0m     epoch_num\u001b[38;5;241m=\u001b[39mepoch,\n\u001b[0;32m   (...)\u001b[0m\n\u001b[1;32m   1561\u001b[0m     _r\u001b[38;5;241m=\u001b[39m\u001b[38;5;241m1\u001b[39m,\n\u001b[1;32m   1562\u001b[0m ):\n\u001b[1;32m   1563\u001b[0m     callbacks\u001b[38;5;241m.\u001b[39mon_train_batch_begin(step)\n\u001b[0;32m-> 1564\u001b[0m     tmp_logs \u001b[38;5;241m=\u001b[39m \u001b[38;5;28;43mself\u001b[39;49m\u001b[38;5;241;43m.\u001b[39;49m\u001b[43mtrain_function\u001b[49m\u001b[43m(\u001b[49m\u001b[43miterator\u001b[49m\u001b[43m)\u001b[49m\n\u001b[1;32m   1565\u001b[0m     \u001b[38;5;28;01mif\u001b[39;00m data_handler\u001b[38;5;241m.\u001b[39mshould_sync:\n\u001b[1;32m   1566\u001b[0m         context\u001b[38;5;241m.\u001b[39masync_wait()\n",
      "File \u001b[0;32m~/miniforge3/envs/csci2470/lib/python3.9/site-packages/tensorflow/python/util/traceback_utils.py:150\u001b[0m, in \u001b[0;36mfilter_traceback.<locals>.error_handler\u001b[0;34m(*args, **kwargs)\u001b[0m\n\u001b[1;32m    148\u001b[0m filtered_tb \u001b[38;5;241m=\u001b[39m \u001b[38;5;28;01mNone\u001b[39;00m\n\u001b[1;32m    149\u001b[0m \u001b[38;5;28;01mtry\u001b[39;00m:\n\u001b[0;32m--> 150\u001b[0m   \u001b[38;5;28;01mreturn\u001b[39;00m \u001b[43mfn\u001b[49m\u001b[43m(\u001b[49m\u001b[38;5;241;43m*\u001b[39;49m\u001b[43margs\u001b[49m\u001b[43m,\u001b[49m\u001b[43m \u001b[49m\u001b[38;5;241;43m*\u001b[39;49m\u001b[38;5;241;43m*\u001b[39;49m\u001b[43mkwargs\u001b[49m\u001b[43m)\u001b[49m\n\u001b[1;32m    151\u001b[0m \u001b[38;5;28;01mexcept\u001b[39;00m \u001b[38;5;167;01mException\u001b[39;00m \u001b[38;5;28;01mas\u001b[39;00m e:\n\u001b[1;32m    152\u001b[0m   filtered_tb \u001b[38;5;241m=\u001b[39m _process_traceback_frames(e\u001b[38;5;241m.\u001b[39m__traceback__)\n",
      "File \u001b[0;32m~/miniforge3/envs/csci2470/lib/python3.9/site-packages/tensorflow/python/eager/def_function.py:915\u001b[0m, in \u001b[0;36mFunction.__call__\u001b[0;34m(self, *args, **kwds)\u001b[0m\n\u001b[1;32m    912\u001b[0m compiler \u001b[38;5;241m=\u001b[39m \u001b[38;5;124m\"\u001b[39m\u001b[38;5;124mxla\u001b[39m\u001b[38;5;124m\"\u001b[39m \u001b[38;5;28;01mif\u001b[39;00m \u001b[38;5;28mself\u001b[39m\u001b[38;5;241m.\u001b[39m_jit_compile \u001b[38;5;28;01melse\u001b[39;00m \u001b[38;5;124m\"\u001b[39m\u001b[38;5;124mnonXla\u001b[39m\u001b[38;5;124m\"\u001b[39m\n\u001b[1;32m    914\u001b[0m \u001b[38;5;28;01mwith\u001b[39;00m OptionalXlaContext(\u001b[38;5;28mself\u001b[39m\u001b[38;5;241m.\u001b[39m_jit_compile):\n\u001b[0;32m--> 915\u001b[0m   result \u001b[38;5;241m=\u001b[39m \u001b[38;5;28;43mself\u001b[39;49m\u001b[38;5;241;43m.\u001b[39;49m\u001b[43m_call\u001b[49m\u001b[43m(\u001b[49m\u001b[38;5;241;43m*\u001b[39;49m\u001b[43margs\u001b[49m\u001b[43m,\u001b[49m\u001b[43m \u001b[49m\u001b[38;5;241;43m*\u001b[39;49m\u001b[38;5;241;43m*\u001b[39;49m\u001b[43mkwds\u001b[49m\u001b[43m)\u001b[49m\n\u001b[1;32m    917\u001b[0m new_tracing_count \u001b[38;5;241m=\u001b[39m \u001b[38;5;28mself\u001b[39m\u001b[38;5;241m.\u001b[39mexperimental_get_tracing_count()\n\u001b[1;32m    918\u001b[0m without_tracing \u001b[38;5;241m=\u001b[39m (tracing_count \u001b[38;5;241m==\u001b[39m new_tracing_count)\n",
      "File \u001b[0;32m~/miniforge3/envs/csci2470/lib/python3.9/site-packages/tensorflow/python/eager/def_function.py:947\u001b[0m, in \u001b[0;36mFunction._call\u001b[0;34m(self, *args, **kwds)\u001b[0m\n\u001b[1;32m    944\u001b[0m   \u001b[38;5;28mself\u001b[39m\u001b[38;5;241m.\u001b[39m_lock\u001b[38;5;241m.\u001b[39mrelease()\n\u001b[1;32m    945\u001b[0m   \u001b[38;5;66;03m# In this case we have created variables on the first call, so we run the\u001b[39;00m\n\u001b[1;32m    946\u001b[0m   \u001b[38;5;66;03m# defunned version which is guaranteed to never create variables.\u001b[39;00m\n\u001b[0;32m--> 947\u001b[0m   \u001b[38;5;28;01mreturn\u001b[39;00m \u001b[38;5;28;43mself\u001b[39;49m\u001b[38;5;241;43m.\u001b[39;49m\u001b[43m_stateless_fn\u001b[49m\u001b[43m(\u001b[49m\u001b[38;5;241;43m*\u001b[39;49m\u001b[43margs\u001b[49m\u001b[43m,\u001b[49m\u001b[43m \u001b[49m\u001b[38;5;241;43m*\u001b[39;49m\u001b[38;5;241;43m*\u001b[39;49m\u001b[43mkwds\u001b[49m\u001b[43m)\u001b[49m  \u001b[38;5;66;03m# pylint: disable=not-callable\u001b[39;00m\n\u001b[1;32m    948\u001b[0m \u001b[38;5;28;01melif\u001b[39;00m \u001b[38;5;28mself\u001b[39m\u001b[38;5;241m.\u001b[39m_stateful_fn \u001b[38;5;129;01mis\u001b[39;00m \u001b[38;5;129;01mnot\u001b[39;00m \u001b[38;5;28;01mNone\u001b[39;00m:\n\u001b[1;32m    949\u001b[0m   \u001b[38;5;66;03m# Release the lock early so that multiple threads can perform the call\u001b[39;00m\n\u001b[1;32m    950\u001b[0m   \u001b[38;5;66;03m# in parallel.\u001b[39;00m\n\u001b[1;32m    951\u001b[0m   \u001b[38;5;28mself\u001b[39m\u001b[38;5;241m.\u001b[39m_lock\u001b[38;5;241m.\u001b[39mrelease()\n",
      "File \u001b[0;32m~/miniforge3/envs/csci2470/lib/python3.9/site-packages/tensorflow/python/eager/function.py:2496\u001b[0m, in \u001b[0;36mFunction.__call__\u001b[0;34m(self, *args, **kwargs)\u001b[0m\n\u001b[1;32m   2493\u001b[0m \u001b[38;5;28;01mwith\u001b[39;00m \u001b[38;5;28mself\u001b[39m\u001b[38;5;241m.\u001b[39m_lock:\n\u001b[1;32m   2494\u001b[0m   (graph_function,\n\u001b[1;32m   2495\u001b[0m    filtered_flat_args) \u001b[38;5;241m=\u001b[39m \u001b[38;5;28mself\u001b[39m\u001b[38;5;241m.\u001b[39m_maybe_define_function(args, kwargs)\n\u001b[0;32m-> 2496\u001b[0m \u001b[38;5;28;01mreturn\u001b[39;00m \u001b[43mgraph_function\u001b[49m\u001b[38;5;241;43m.\u001b[39;49m\u001b[43m_call_flat\u001b[49m\u001b[43m(\u001b[49m\n\u001b[1;32m   2497\u001b[0m \u001b[43m    \u001b[49m\u001b[43mfiltered_flat_args\u001b[49m\u001b[43m,\u001b[49m\u001b[43m \u001b[49m\u001b[43mcaptured_inputs\u001b[49m\u001b[38;5;241;43m=\u001b[39;49m\u001b[43mgraph_function\u001b[49m\u001b[38;5;241;43m.\u001b[39;49m\u001b[43mcaptured_inputs\u001b[49m\u001b[43m)\u001b[49m\n",
      "File \u001b[0;32m~/miniforge3/envs/csci2470/lib/python3.9/site-packages/tensorflow/python/eager/function.py:1862\u001b[0m, in \u001b[0;36mConcreteFunction._call_flat\u001b[0;34m(self, args, captured_inputs, cancellation_manager)\u001b[0m\n\u001b[1;32m   1858\u001b[0m possible_gradient_type \u001b[38;5;241m=\u001b[39m gradients_util\u001b[38;5;241m.\u001b[39mPossibleTapeGradientTypes(args)\n\u001b[1;32m   1859\u001b[0m \u001b[38;5;28;01mif\u001b[39;00m (possible_gradient_type \u001b[38;5;241m==\u001b[39m gradients_util\u001b[38;5;241m.\u001b[39mPOSSIBLE_GRADIENT_TYPES_NONE\n\u001b[1;32m   1860\u001b[0m     \u001b[38;5;129;01mand\u001b[39;00m executing_eagerly):\n\u001b[1;32m   1861\u001b[0m   \u001b[38;5;66;03m# No tape is watching; skip to running the function.\u001b[39;00m\n\u001b[0;32m-> 1862\u001b[0m   \u001b[38;5;28;01mreturn\u001b[39;00m \u001b[38;5;28mself\u001b[39m\u001b[38;5;241m.\u001b[39m_build_call_outputs(\u001b[38;5;28;43mself\u001b[39;49m\u001b[38;5;241;43m.\u001b[39;49m\u001b[43m_inference_function\u001b[49m\u001b[38;5;241;43m.\u001b[39;49m\u001b[43mcall\u001b[49m\u001b[43m(\u001b[49m\n\u001b[1;32m   1863\u001b[0m \u001b[43m      \u001b[49m\u001b[43mctx\u001b[49m\u001b[43m,\u001b[49m\u001b[43m \u001b[49m\u001b[43margs\u001b[49m\u001b[43m,\u001b[49m\u001b[43m \u001b[49m\u001b[43mcancellation_manager\u001b[49m\u001b[38;5;241;43m=\u001b[39;49m\u001b[43mcancellation_manager\u001b[49m\u001b[43m)\u001b[49m)\n\u001b[1;32m   1864\u001b[0m forward_backward \u001b[38;5;241m=\u001b[39m \u001b[38;5;28mself\u001b[39m\u001b[38;5;241m.\u001b[39m_select_forward_and_backward_functions(\n\u001b[1;32m   1865\u001b[0m     args,\n\u001b[1;32m   1866\u001b[0m     possible_gradient_type,\n\u001b[1;32m   1867\u001b[0m     executing_eagerly)\n\u001b[1;32m   1868\u001b[0m forward_function, args_with_tangents \u001b[38;5;241m=\u001b[39m forward_backward\u001b[38;5;241m.\u001b[39mforward()\n",
      "File \u001b[0;32m~/miniforge3/envs/csci2470/lib/python3.9/site-packages/tensorflow/python/eager/function.py:499\u001b[0m, in \u001b[0;36m_EagerDefinedFunction.call\u001b[0;34m(self, ctx, args, cancellation_manager)\u001b[0m\n\u001b[1;32m    497\u001b[0m \u001b[38;5;28;01mwith\u001b[39;00m _InterpolateFunctionError(\u001b[38;5;28mself\u001b[39m):\n\u001b[1;32m    498\u001b[0m   \u001b[38;5;28;01mif\u001b[39;00m cancellation_manager \u001b[38;5;129;01mis\u001b[39;00m \u001b[38;5;28;01mNone\u001b[39;00m:\n\u001b[0;32m--> 499\u001b[0m     outputs \u001b[38;5;241m=\u001b[39m \u001b[43mexecute\u001b[49m\u001b[38;5;241;43m.\u001b[39;49m\u001b[43mexecute\u001b[49m\u001b[43m(\u001b[49m\n\u001b[1;32m    500\u001b[0m \u001b[43m        \u001b[49m\u001b[38;5;28;43mstr\u001b[39;49m\u001b[43m(\u001b[49m\u001b[38;5;28;43mself\u001b[39;49m\u001b[38;5;241;43m.\u001b[39;49m\u001b[43msignature\u001b[49m\u001b[38;5;241;43m.\u001b[39;49m\u001b[43mname\u001b[49m\u001b[43m)\u001b[49m\u001b[43m,\u001b[49m\n\u001b[1;32m    501\u001b[0m \u001b[43m        \u001b[49m\u001b[43mnum_outputs\u001b[49m\u001b[38;5;241;43m=\u001b[39;49m\u001b[38;5;28;43mself\u001b[39;49m\u001b[38;5;241;43m.\u001b[39;49m\u001b[43m_num_outputs\u001b[49m\u001b[43m,\u001b[49m\n\u001b[1;32m    502\u001b[0m \u001b[43m        \u001b[49m\u001b[43minputs\u001b[49m\u001b[38;5;241;43m=\u001b[39;49m\u001b[43margs\u001b[49m\u001b[43m,\u001b[49m\n\u001b[1;32m    503\u001b[0m \u001b[43m        \u001b[49m\u001b[43mattrs\u001b[49m\u001b[38;5;241;43m=\u001b[39;49m\u001b[43mattrs\u001b[49m\u001b[43m,\u001b[49m\n\u001b[1;32m    504\u001b[0m \u001b[43m        \u001b[49m\u001b[43mctx\u001b[49m\u001b[38;5;241;43m=\u001b[39;49m\u001b[43mctx\u001b[49m\u001b[43m)\u001b[49m\n\u001b[1;32m    505\u001b[0m   \u001b[38;5;28;01melse\u001b[39;00m:\n\u001b[1;32m    506\u001b[0m     outputs \u001b[38;5;241m=\u001b[39m execute\u001b[38;5;241m.\u001b[39mexecute_with_cancellation(\n\u001b[1;32m    507\u001b[0m         \u001b[38;5;28mstr\u001b[39m(\u001b[38;5;28mself\u001b[39m\u001b[38;5;241m.\u001b[39msignature\u001b[38;5;241m.\u001b[39mname),\n\u001b[1;32m    508\u001b[0m         num_outputs\u001b[38;5;241m=\u001b[39m\u001b[38;5;28mself\u001b[39m\u001b[38;5;241m.\u001b[39m_num_outputs,\n\u001b[0;32m   (...)\u001b[0m\n\u001b[1;32m    511\u001b[0m         ctx\u001b[38;5;241m=\u001b[39mctx,\n\u001b[1;32m    512\u001b[0m         cancellation_manager\u001b[38;5;241m=\u001b[39mcancellation_manager)\n",
      "File \u001b[0;32m~/miniforge3/envs/csci2470/lib/python3.9/site-packages/tensorflow/python/eager/execute.py:54\u001b[0m, in \u001b[0;36mquick_execute\u001b[0;34m(op_name, num_outputs, inputs, attrs, ctx, name)\u001b[0m\n\u001b[1;32m     52\u001b[0m \u001b[38;5;28;01mtry\u001b[39;00m:\n\u001b[1;32m     53\u001b[0m   ctx\u001b[38;5;241m.\u001b[39mensure_initialized()\n\u001b[0;32m---> 54\u001b[0m   tensors \u001b[38;5;241m=\u001b[39m \u001b[43mpywrap_tfe\u001b[49m\u001b[38;5;241;43m.\u001b[39;49m\u001b[43mTFE_Py_Execute\u001b[49m\u001b[43m(\u001b[49m\u001b[43mctx\u001b[49m\u001b[38;5;241;43m.\u001b[39;49m\u001b[43m_handle\u001b[49m\u001b[43m,\u001b[49m\u001b[43m \u001b[49m\u001b[43mdevice_name\u001b[49m\u001b[43m,\u001b[49m\u001b[43m \u001b[49m\u001b[43mop_name\u001b[49m\u001b[43m,\u001b[49m\n\u001b[1;32m     55\u001b[0m \u001b[43m                                      \u001b[49m\u001b[43minputs\u001b[49m\u001b[43m,\u001b[49m\u001b[43m \u001b[49m\u001b[43mattrs\u001b[49m\u001b[43m,\u001b[49m\u001b[43m \u001b[49m\u001b[43mnum_outputs\u001b[49m\u001b[43m)\u001b[49m\n\u001b[1;32m     56\u001b[0m \u001b[38;5;28;01mexcept\u001b[39;00m core\u001b[38;5;241m.\u001b[39m_NotOkStatusException \u001b[38;5;28;01mas\u001b[39;00m e:\n\u001b[1;32m     57\u001b[0m   \u001b[38;5;28;01mif\u001b[39;00m name \u001b[38;5;129;01mis\u001b[39;00m \u001b[38;5;129;01mnot\u001b[39;00m \u001b[38;5;28;01mNone\u001b[39;00m:\n",
      "\u001b[0;31mKeyboardInterrupt\u001b[0m: "
     ]
    }
   ],
   "source": [
    "news_model.fit(\n",
    "    [inputs, labels],\n",
    "    labels,\n",
    "    epochs=10, \n",
    "    batch_size=25,\n",
    "    validation_data=([inputs, labels], labels)\n",
    ")"
   ]
  },
  {
   "cell_type": "code",
   "execution_count": 70,
   "id": "b0048789",
   "metadata": {
    "scrolled": false
   },
   "outputs": [
    {
     "name": "stdout",
     "output_type": "stream",
     "text": [
      "Epoch 1/10\n"
     ]
    },
    {
     "name": "stderr",
     "output_type": "stream",
     "text": [
      "2022-12-11 15:54:43.685670: I tensorflow/core/grappler/optimizers/custom_graph_optimizer_registry.cc:114] Plugin optimizer for device_type GPU is enabled.\n"
     ]
    },
    {
     "name": "stdout",
     "output_type": "stream",
     "text": [
      "200/200 [==============================] - ETA: 0s - loss: 5.7516 - perplexity: 339.7911"
     ]
    },
    {
     "name": "stderr",
     "output_type": "stream",
     "text": [
      "2022-12-11 15:55:12.023582: I tensorflow/core/grappler/optimizers/custom_graph_optimizer_registry.cc:114] Plugin optimizer for device_type GPU is enabled.\n"
     ]
    },
    {
     "name": "stdout",
     "output_type": "stream",
     "text": [
      "200/200 [==============================] - 38s 169ms/step - loss: 5.7516 - perplexity: 339.7911 - val_loss: 5.6809 - val_perplexity: 309.4752\n",
      "Epoch 2/10\n",
      "200/200 [==============================] - 33s 163ms/step - loss: 5.6913 - perplexity: 314.9542 - val_loss: 5.6840 - val_perplexity: 310.9508\n",
      "Epoch 3/10\n",
      "200/200 [==============================] - 32s 158ms/step - loss: 5.6885 - perplexity: 317.6306 - val_loss: 5.6840 - val_perplexity: 310.9508\n",
      "Epoch 4/10\n",
      "200/200 [==============================] - 31s 153ms/step - loss: 5.6914 - perplexity: 313.3600 - val_loss: 5.6840 - val_perplexity: 310.9510\n",
      "Epoch 5/10\n",
      "200/200 [==============================] - 29s 146ms/step - loss: 5.6608 - perplexity: 302.4050 - val_loss: 5.6840 - val_perplexity: 310.9517\n",
      "Epoch 6/10\n",
      "200/200 [==============================] - 29s 143ms/step - loss: 5.6841 - perplexity: 311.8976 - val_loss: 5.6840 - val_perplexity: 310.9508\n",
      "Epoch 7/10\n",
      "200/200 [==============================] - 29s 145ms/step - loss: 5.6941 - perplexity: 310.9659 - val_loss: 5.6840 - val_perplexity: 310.9513\n",
      "Epoch 8/10\n",
      "200/200 [==============================] - 30s 149ms/step - loss: 5.8037 - perplexity: 351.0901 - val_loss: 5.8496 - val_perplexity: 366.8944\n",
      "Epoch 9/10\n",
      "200/200 [==============================] - 30s 151ms/step - loss: 5.8436 - perplexity: 363.5483 - val_loss: 5.8496 - val_perplexity: 366.8944\n",
      "Epoch 10/10\n",
      "200/200 [==============================] - 30s 148ms/step - loss: 5.8490 - perplexity: 364.8001 - val_loss: 5.8496 - val_perplexity: 366.8944\n"
     ]
    },
    {
     "data": {
      "text/plain": [
       "<keras.callbacks.History at 0x2a079af70>"
      ]
     },
     "execution_count": 70,
     "metadata": {},
     "output_type": "execute_result"
    }
   ],
   "source": [
    "# model([inputs, labels])\n",
    "news_model.fit(\n",
    "    [inputs, labels],\n",
    "    labels,\n",
    "    epochs=10, \n",
    "    batch_size=25,\n",
    "    validation_data=([inputs, labels], labels)\n",
    ")\n",
    "# model.build(input_shape=(None, 124))"
   ]
  },
  {
   "cell_type": "code",
   "execution_count": 107,
   "id": "650771d7",
   "metadata": {},
   "outputs": [
    {
     "data": {
      "text/plain": [
       "{}"
      ]
     },
     "execution_count": 107,
     "metadata": {},
     "output_type": "execute_result"
    }
   ],
   "source": [
    "news_model.history.history"
   ]
  },
  {
   "cell_type": "code",
   "execution_count": 75,
   "id": "420fe749",
   "metadata": {},
   "outputs": [
    {
     "name": "stdout",
     "output_type": "stream",
     "text": [
      "1/1 [==============================] - 0s 337ms/step\n"
     ]
    }
   ],
   "source": [
    "samples = (inputs[:10], labels[:10])\n",
    "outputs = news_model.predict(samples)"
   ]
  },
  {
   "cell_type": "code",
   "execution_count": 41,
   "id": "5eccfe19",
   "metadata": {
    "scrolled": true
   },
   "outputs": [
    {
     "data": {
      "text/plain": [
       "['<start>',\n",
       " 'craig',\n",
       " '<unk>',\n",
       " '27',\n",
       " 'had',\n",
       " 'drunk',\n",
       " 'at',\n",
       " 'least',\n",
       " 'three',\n",
       " '<unk>',\n",
       " 'before',\n",
       " 'driving',\n",
       " 'car',\n",
       " 'wa',\n",
       " 'using',\n",
       " 'phone',\n",
       " 'when',\n",
       " 'he',\n",
       " '<unk>',\n",
       " '<end>']"
      ]
     },
     "execution_count": 41,
     "metadata": {},
     "output_type": "execute_result"
    }
   ],
   "source": [
    "[dataset[\"idx2word\"][i] for i in labels[]]"
   ]
  },
  {
   "cell_type": "code",
   "execution_count": 101,
   "id": "02ec418d",
   "metadata": {},
   "outputs": [
    {
     "name": "stdout",
     "output_type": "stream",
     "text": [
      "<start> bishop john <unk> of north <unk> is taking time off after being diagnosed he <unk> the infection through <end>\n",
      "<start> criminal complaint cop used his role to help cocaine <unk> <unk> <unk> an internal affair <unk> allegedly helped <end>\n",
      "<start> craig <unk> 27 had drunk at least three <unk> before driving car wa using phone when he <unk> <end>\n",
      "<start> <unk> do <unk> say europe must be ready to accept sanction will hurt both side <unk> russia business <end>\n",
      "<start> <unk> top of league one after 20 win at <unk> <unk> <unk> city <unk> and <unk> all drop <end>\n",
      "<start> prime minister and his family are enjoying an <unk> break in <unk> <unk> the same <unk> <unk> <unk> <end>\n",
      "<start> <unk> star call for black and <unk> community to get tested former <unk> player dedicated life to raising <end>\n",
      "<start> london <unk> service had been <unk> into <unk> station in <unk> passenger chris <unk> 46 wa recording on <end>\n",
      "<start> tony <unk> belief <unk> <unk> should look up to <unk> <unk> <unk> <unk> <unk> ha been <unk> to <end>\n",
      "<start> black box data from flight <unk> could be <unk> at a <unk> in australia even if the flight <end>\n"
     ]
    }
   ],
   "source": [
    "for i in range(10):\n",
    "    sentence = labels[i]\n",
    "    print(\" \".join([dataset[\"idx2word\"][i] for i in sentence]))\n",
    "#     generate_sentense(sentence)"
   ]
  },
  {
   "cell_type": "code",
   "execution_count": 76,
   "id": "b116e32c",
   "metadata": {},
   "outputs": [
    {
     "name": "stdout",
     "output_type": "stream",
     "text": [
      "in in in in in in in in in in in in in in in in in in in in\n",
      "in in in in in in in in in in in in in in in in in in in in\n",
      "in in in in in in in in in in in in in in in in in in in in\n",
      "in in in in in in in in in in in in in in in in in in in in\n",
      "in in in in in in in in in in in in in in in in in in in in\n",
      "in in in in in in in in in in in in in in in in in in in in\n",
      "in in in in in in in in in in in in in in in in in in in in\n",
      "in in in in in in in in in in in in in in in in in in in in\n",
      "in in in in in in in in in in in in in in in in in in in in\n",
      "in in in in in in in in in in in in in in in in in in in in\n"
     ]
    }
   ],
   "source": [
    "generate_sentense(outputs)"
   ]
  },
  {
   "cell_type": "code",
   "execution_count": 67,
   "id": "6d0cfc13",
   "metadata": {},
   "outputs": [
    {
     "name": "stdout",
     "output_type": "stream",
     "text": [
      "Model: \"news_caption_model_5\"\n",
      "_________________________________________________________________\n",
      " Layer (type)                Output Shape              Param #   \n",
      "=================================================================\n",
      " encoder_block_5 (EncoderBlo  multiple                 569284    \n",
      " ck)                                                             \n",
      "                                                                 \n",
      " transformer_block_5 (Transf  multiple                 630416    \n",
      " ormerBlock)                                                     \n",
      "                                                                 \n",
      "=================================================================\n",
      "Total params: 1,199,700\n",
      "Trainable params: 1,199,700\n",
      "Non-trainable params: 0\n",
      "_________________________________________________________________\n"
     ]
    }
   ],
   "source": [
    "news_model.summary()"
   ]
  },
  {
   "cell_type": "code",
   "execution_count": 43,
   "id": "ca2afa82",
   "metadata": {},
   "outputs": [],
   "source": [
    "def generate_sentense(outputs):\n",
    "    batch_size = outputs.shape[0]\n",
    "    for i in range(batch_size):\n",
    "        sentence = outputs[i]\n",
    "        sentence = np.argmax(sentence, axis=-1)\n",
    "        print(\" \".join([dataset[\"idx2word\"][i] for i in sentence]))\n",
    "    "
   ]
  }
 ],
 "metadata": {
  "kernelspec": {
   "display_name": "Python 3 (ipykernel)",
   "language": "python",
   "name": "python3"
  },
  "language_info": {
   "codemirror_mode": {
    "name": "ipython",
    "version": 3
   },
   "file_extension": ".py",
   "mimetype": "text/x-python",
   "name": "python",
   "nbconvert_exporter": "python",
   "pygments_lexer": "ipython3",
   "version": "3.9.13"
  }
 },
 "nbformat": 4,
 "nbformat_minor": 5
}
